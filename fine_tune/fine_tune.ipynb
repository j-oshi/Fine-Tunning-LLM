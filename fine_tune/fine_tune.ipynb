{
 "cells": [
  {
   "cell_type": "code",
   "execution_count": 2,
   "id": "95514799",
   "metadata": {},
   "outputs": [
    {
     "name": "stdout",
     "output_type": "stream",
     "text": [
      "nvcc: NVIDIA (R) Cuda compiler driver\n",
      "Copyright (c) 2005-2025 NVIDIA Corporation\n",
      "Built on Wed_Aug_20_13:58:20_Pacific_Daylight_Time_2025\n",
      "Cuda compilation tools, release 13.0, V13.0.88\n",
      "Build cuda_13.0.r13.0/compiler.36424714_0\n",
      " \n",
      "------------------------------\n",
      " \n",
      "Sat Oct  4 21:31:33 2025       \n",
      "+-----------------------------------------------------------------------------------------+\n",
      "| NVIDIA-SMI 581.29                 Driver Version: 581.29         CUDA Version: 13.0     |\n",
      "+-----------------------------------------+------------------------+----------------------+\n",
      "| GPU  Name                  Driver-Model | Bus-Id          Disp.A | Volatile Uncorr. ECC |\n",
      "| Fan  Temp   Perf          Pwr:Usage/Cap |           Memory-Usage | GPU-Util  Compute M. |\n",
      "|                                         |                        |               MIG M. |\n",
      "|=========================================+========================+======================|\n",
      "|   0  NVIDIA GeForce RTX 3050 ...  WDDM  |   00000000:01:00.0 Off |                  N/A |\n",
      "| N/A   63C    P8              9W /   45W |       0MiB /   4096MiB |      0%      Default |\n",
      "|                                         |                        |                  N/A |\n",
      "+-----------------------------------------+------------------------+----------------------+\n",
      "\n",
      "+-----------------------------------------------------------------------------------------+\n",
      "| Processes:                                                                              |\n",
      "|  GPU   GI   CI              PID   Type   Process name                        GPU Memory |\n",
      "|        ID   ID                                                               Usage      |\n",
      "|=========================================================================================|\n",
      "|  No running processes found                                                             |\n",
      "+-----------------------------------------------------------------------------------------+\n"
     ]
    }
   ],
   "source": [
    "# Check nvidia driver version\n",
    "!nvcc --version\n",
    "print(\" \")\n",
    "print(\"------------------------------\")\n",
    "print(\" \")\n",
    "# Check if cuda exist\n",
    "!nvidia-smi\n"
   ]
  },
  {
   "cell_type": "code",
   "execution_count": null,
   "id": "8eddf3f6",
   "metadata": {},
   "outputs": [],
   "source": [
    "# Issue pytorch compatibility with cuda 13. Using nightly \n",
    "# # !pip uninstall -y torch torchvision xformers\n",
    "\n",
    "# # Install the available PyTorch build for CUDA 13\n",
    "# !pip install --pre torch torchvision --index-url https://download.pytorch.org/whl/nightly/cu130\n",
    "\n",
    "# # Install the latest xformers built for torch 2.10 from https://github.com/facebookresearch/xformers\n",
    "# # !pip install xformers==0.0.33.dev1083# (Optional) Makes the build much faster\n",
    "# !pip install ninja\n",
    "# # Set TORCH_CUDA_ARCH_LIST if running and building on different GPU types\n",
    "# # NOTE: pytorch must already be installed!\n",
    "# !pip install -v --no-build-isolation -U git+https://github.com/facebookresearch/xformers.git@main#egg=xformers\n",
    "# # (this can take dozens of minutes)"
   ]
  },
  {
   "cell_type": "code",
   "execution_count": 3,
   "id": "c7b7415b",
   "metadata": {},
   "outputs": [
    {
     "ename": "ModuleNotFoundError",
     "evalue": "No module named 'torch'",
     "output_type": "error",
     "traceback": [
      "\u001b[31m---------------------------------------------------------------------------\u001b[39m",
      "\u001b[31mModuleNotFoundError\u001b[39m                       Traceback (most recent call last)",
      "\u001b[36mCell\u001b[39m\u001b[36m \u001b[39m\u001b[32mIn[3]\u001b[39m\u001b[32m, line 2\u001b[39m\n\u001b[32m      1\u001b[39m \u001b[38;5;28;01mimport\u001b[39;00m\u001b[38;5;250m \u001b[39m\u001b[34;01mjson\u001b[39;00m,\u001b[38;5;250m \u001b[39m\u001b[34;01mos\u001b[39;00m\n\u001b[32m----> \u001b[39m\u001b[32m2\u001b[39m \u001b[38;5;28;01mimport\u001b[39;00m\u001b[38;5;250m \u001b[39m\u001b[34;01mtorch\u001b[39;00m\n\u001b[32m      3\u001b[39m \u001b[38;5;28;01mfrom\u001b[39;00m\u001b[38;5;250m \u001b[39m\u001b[34;01munsloth\u001b[39;00m\u001b[38;5;250m \u001b[39m\u001b[38;5;28;01mimport\u001b[39;00m FastLanguageModel\n\u001b[32m      4\u001b[39m \u001b[38;5;28;01mfrom\u001b[39;00m\u001b[38;5;250m \u001b[39m\u001b[34;01mdatasets\u001b[39;00m\u001b[38;5;250m \u001b[39m\u001b[38;5;28;01mimport\u001b[39;00m Dataset\n",
      "\u001b[31mModuleNotFoundError\u001b[39m: No module named 'torch'"
     ]
    }
   ],
   "source": [
    "import json, os\n",
    "import torch\n",
    "from unsloth import FastLanguageModel\n",
    "from datasets import Dataset\n",
    "\n",
    "print(\"CUDA available:\", torch.cuda.is_available())"
   ]
  },
  {
   "cell_type": "markdown",
   "id": "14d0ab99",
   "metadata": {},
   "source": [
    "Load Base Model (Qwen3-14B, use 4bit if GPU is available)"
   ]
  },
  {
   "cell_type": "code",
   "execution_count": null,
   "id": "0f3a3aa9",
   "metadata": {},
   "outputs": [],
   "source": [
    "model, tokenizer = FastLanguageModel.from_pretrained(\n",
    "    model_name = \"unsloth/Qwen3-14B\",\n",
    "    max_seq_length = 2048,\n",
    "    load_in_4bit = torch.cuda.is_available(),\n",
    "    load_in_8bit = False,\n",
    "    full_finetuning = False,\n",
    ")\n",
    "\n",
    "# Add LoRA adapters\n",
    "model = FastLanguageModel.get_peft_model(\n",
    "    model,\n",
    "    r = 32,\n",
    "    target_modules = [\"q_proj\", \"k_proj\", \"v_proj\", \"o_proj\", \"gate_proj\", \"up_proj\", \"down_proj\"],\n",
    "    lora_alpha = 32,\n",
    "    lora_dropout = 0,\n",
    "    bias = \"none\",\n",
    "    use_gradient_checkpointing = \"unsloth\",\n",
    "    random_state = 3407,\n",
    ")\n"
   ]
  },
  {
   "cell_type": "markdown",
   "id": "2b803eb7",
   "metadata": {},
   "source": [
    "Load and prepare dataset"
   ]
  },
  {
   "cell_type": "code",
   "execution_count": null,
   "id": "3bacca88",
   "metadata": {},
   "outputs": [],
   "source": [
    "with open(\"sqlite_json_training_dataset_extended.json\", \"r\") as f:\n",
    "    dataset_file = json.load(f)\n",
    "\n",
    "def format_prompt(example):\n",
    "    return f\"### Input: {example['input']}\\n### Output: {json.dumps(example['sql'])}<|endoftext|>\"\n",
    "\n",
    "formatted_data = [format_prompt(item) for item in dataset_file]\n",
    "dataset = Dataset.from_dict({\"text\": formatted_data})\n",
    "\n",
    "print(\"Sample prompt:\\n\", formatted_data[0])"
   ]
  },
  {
   "cell_type": "markdown",
   "id": "d5c0509c",
   "metadata": {},
   "source": [
    "Fine-tuning"
   ]
  },
  {
   "cell_type": "code",
   "execution_count": null,
   "id": "a33d16c9",
   "metadata": {},
   "outputs": [],
   "source": [
    "from trl import SFTTrainer, SFTConfig\n",
    "\n",
    "trainer = SFTTrainer(\n",
    "    model = model,\n",
    "    tokenizer = tokenizer,\n",
    "    train_dataset = dataset,\n",
    "    args = SFTConfig(\n",
    "        dataset_text_field = \"text\",\n",
    "        per_device_train_batch_size = 1,   # reduce for low RAM\n",
    "        gradient_accumulation_steps = 2,\n",
    "        max_steps = 30,   # demo; increase later\n",
    "        learning_rate = 2e-4,\n",
    "        logging_steps = 5,\n",
    "        optim = \"adamw_8bit\",\n",
    "        weight_decay = 0.01,\n",
    "        lr_scheduler_type = \"linear\",\n",
    "        seed = 3407,\n",
    "        report_to = \"none\",\n",
    "    ),\n",
    ")\n",
    "\n",
    "trainer.train()\n",
    "print(\"✅ Training complete\")"
   ]
  },
  {
   "cell_type": "markdown",
   "id": "c0e1ed4d",
   "metadata": {},
   "source": [
    "Save & Export to GGUF"
   ]
  },
  {
   "cell_type": "code",
   "execution_count": null,
   "id": "4251bf2b",
   "metadata": {},
   "outputs": [],
   "source": [
    "EXPORT_PATH = \"./gguf_model\"\n",
    "os.makedirs(EXPORT_PATH, exist_ok=True)\n",
    "\n",
    "model.save_pretrained_merged(EXPORT_PATH, tokenizer, save_method=\"merged_16bit\")\n",
    "\n",
    "model.save_pretrained_gguf(\n",
    "    EXPORT_PATH,\n",
    "    tokenizer,\n",
    "    quantization_method=\"q4_k_s\"  # ~2GB\n",
    ")\n",
    "\n",
    "print(\"Files in export dir:\", os.listdir(EXPORT_PATH))"
   ]
  },
  {
   "cell_type": "markdown",
   "id": "9d18fadf",
   "metadata": {},
   "source": [
    "Inference with GGUF"
   ]
  },
  {
   "cell_type": "code",
   "execution_count": null,
   "id": "3de25127",
   "metadata": {},
   "outputs": [],
   "source": [
    "from llama_cpp import Llama\n",
    "\n",
    "gguf_file = [f for f in os.listdir(EXPORT_PATH) if f.endswith(\".gguf\")][0]\n",
    "llm = Llama(model_path=os.path.join(EXPORT_PATH, gguf_file), n_ctx=1024, n_threads=4)\n",
    "\n",
    "response = llm(\"Aggregate all tech_startup names into JSON array\")\n",
    "print(\"Model output:\\n\", response[\"choices\"][0][\"text\"])"
   ]
  }
 ],
 "metadata": {
  "kernelspec": {
   "display_name": "ftl_311_env (3.11.9)",
   "language": "python",
   "name": "python3"
  },
  "language_info": {
   "codemirror_mode": {
    "name": "ipython",
    "version": 3
   },
   "file_extension": ".py",
   "mimetype": "text/x-python",
   "name": "python",
   "nbconvert_exporter": "python",
   "pygments_lexer": "ipython3",
   "version": "3.11.9"
  }
 },
 "nbformat": 4,
 "nbformat_minor": 5
}
