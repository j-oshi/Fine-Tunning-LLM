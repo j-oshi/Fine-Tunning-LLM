{
 "cells": [
  {
   "cell_type": "code",
   "execution_count": null,
   "id": "c7b7415b",
   "metadata": {},
   "outputs": [],
   "source": [
    "import json, os, torch\n",
    "from unsloth import FastLanguageModel\n",
    "from datasets import Dataset\n",
    "\n",
    "print(\"CUDA available:\", torch.cuda.is_available())"
   ]
  },
  {
   "cell_type": "markdown",
   "id": "14d0ab99",
   "metadata": {},
   "source": [
    "Load Base Model (Qwen3-14B, use 4bit if GPU is available)"
   ]
  },
  {
   "cell_type": "code",
   "execution_count": null,
   "id": "0f3a3aa9",
   "metadata": {},
   "outputs": [],
   "source": [
    "model, tokenizer = FastLanguageModel.from_pretrained(\n",
    "    model_name = \"unsloth/Qwen3-14B\",\n",
    "    max_seq_length = 2048,\n",
    "    load_in_4bit = torch.cuda.is_available(),\n",
    "    load_in_8bit = False,\n",
    "    full_finetuning = False,\n",
    ")\n",
    "\n",
    "# Add LoRA adapters\n",
    "model = FastLanguageModel.get_peft_model(\n",
    "    model,\n",
    "    r = 32,\n",
    "    target_modules = [\"q_proj\", \"k_proj\", \"v_proj\", \"o_proj\", \"gate_proj\", \"up_proj\", \"down_proj\"],\n",
    "    lora_alpha = 32,\n",
    "    lora_dropout = 0,\n",
    "    bias = \"none\",\n",
    "    use_gradient_checkpointing = \"unsloth\",\n",
    "    random_state = 3407,\n",
    ")\n"
   ]
  },
  {
   "cell_type": "markdown",
   "id": "2b803eb7",
   "metadata": {},
   "source": [
    "Load and prepare dataset"
   ]
  },
  {
   "cell_type": "code",
   "execution_count": null,
   "id": "3bacca88",
   "metadata": {},
   "outputs": [],
   "source": [
    "with open(\"sqlite_json_training_dataset_extended.json\", \"r\") as f:\n",
    "    dataset_file = json.load(f)\n",
    "\n",
    "def format_prompt(example):\n",
    "    return f\"### Input: {example['input']}\\n### Output: {json.dumps(example['sql'])}<|endoftext|>\"\n",
    "\n",
    "formatted_data = [format_prompt(item) for item in dataset_file]\n",
    "dataset = Dataset.from_dict({\"text\": formatted_data})\n",
    "\n",
    "print(\"Sample prompt:\\n\", formatted_data[0])"
   ]
  },
  {
   "cell_type": "markdown",
   "id": "d5c0509c",
   "metadata": {},
   "source": [
    "Fine-tuning"
   ]
  },
  {
   "cell_type": "code",
   "execution_count": null,
   "id": "a33d16c9",
   "metadata": {},
   "outputs": [],
   "source": [
    "from trl import SFTTrainer, SFTConfig\n",
    "\n",
    "trainer = SFTTrainer(\n",
    "    model = model,\n",
    "    tokenizer = tokenizer,\n",
    "    train_dataset = dataset,\n",
    "    args = SFTConfig(\n",
    "        dataset_text_field = \"text\",\n",
    "        per_device_train_batch_size = 1,   # reduce for low RAM\n",
    "        gradient_accumulation_steps = 2,\n",
    "        max_steps = 30,   # demo; increase later\n",
    "        learning_rate = 2e-4,\n",
    "        logging_steps = 5,\n",
    "        optim = \"adamw_8bit\",\n",
    "        weight_decay = 0.01,\n",
    "        lr_scheduler_type = \"linear\",\n",
    "        seed = 3407,\n",
    "        report_to = \"none\",\n",
    "    ),\n",
    ")\n",
    "\n",
    "trainer.train()\n",
    "print(\"✅ Training complete\")"
   ]
  },
  {
   "cell_type": "markdown",
   "id": "c0e1ed4d",
   "metadata": {},
   "source": [
    "Save & Export to GGUF"
   ]
  },
  {
   "cell_type": "code",
   "execution_count": null,
   "id": "4251bf2b",
   "metadata": {},
   "outputs": [],
   "source": [
    "EXPORT_PATH = \"./gguf_model\"\n",
    "os.makedirs(EXPORT_PATH, exist_ok=True)\n",
    "\n",
    "model.save_pretrained_merged(EXPORT_PATH, tokenizer, save_method=\"merged_16bit\")\n",
    "\n",
    "model.save_pretrained_gguf(\n",
    "    EXPORT_PATH,\n",
    "    tokenizer,\n",
    "    quantization_method=\"q4_k_s\"  # ~2GB\n",
    ")\n",
    "\n",
    "print(\"Files in export dir:\", os.listdir(EXPORT_PATH))"
   ]
  },
  {
   "cell_type": "markdown",
   "id": "9d18fadf",
   "metadata": {},
   "source": [
    "Inference with GGUF"
   ]
  },
  {
   "cell_type": "code",
   "execution_count": null,
   "id": "3de25127",
   "metadata": {},
   "outputs": [],
   "source": [
    "from llama_cpp import Llama\n",
    "\n",
    "gguf_file = [f for f in os.listdir(EXPORT_PATH) if f.endswith(\".gguf\")][0]\n",
    "llm = Llama(model_path=os.path.join(EXPORT_PATH, gguf_file), n_ctx=1024, n_threads=4)\n",
    "\n",
    "response = llm(\"Aggregate all tech_startup names into JSON array\")\n",
    "print(\"Model output:\\n\", response[\"choices\"][0][\"text\"])"
   ]
  }
 ],
 "metadata": {
  "language_info": {
   "name": "python"
  }
 },
 "nbformat": 4,
 "nbformat_minor": 5
}
