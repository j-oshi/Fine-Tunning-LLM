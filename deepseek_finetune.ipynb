{
 "cells": [
  {
   "cell_type": "markdown",
   "id": "c9c6691e",
   "metadata": {},
   "source": [
    "# 🧠 DeepSeek Text→NoSQL Fine-Tuning + GGUF Export (LoRA Edition)\n",
    "### Author: Oshinit\n",
    "### Workflow:\n",
    "1. Load dataset (`input` + `sql`)\n",
    "2. Apply parameter-efficient fine-tuning with LoRA\n",
    "3. Save LoRA adapter and merged FP16 model\n",
    "4. Convert to GGUF\n",
    "5. Quantize (Q4_K_M, Q5_K_M, Q8_0)\n"
   ]
  },
  {
   "cell_type": "code",
   "execution_count": null,
   "id": "e8787559",
   "metadata": {
    "vscode": {
     "languageId": "plaintext"
    }
   },
   "outputs": [],
   "source": [
    "# ---------- GPU / memory heuristics ----------\n",
    "import torch\n",
    "\n",
    "cuda_available = torch.cuda.is_available()\n",
    "gpu_name = None\n",
    "gpu_total_gb = 0\n",
    "if cuda_available:\n",
    "    prop = torch.cuda.get_device_properties(0)\n",
    "    gpu_name = prop.name\n",
    "    gpu_total_gb = int(prop.total_memory / (1024 ** 3))\n",
    "print(f\"CUDA available: {cuda_available}, GPU: {gpu_name}, VRAM (GB): {gpu_total_gb}\")\n",
    "print(f\"CUDA version: {torch.version.cuda}\")  # should show CUDA version"
   ]
  },
  {
   "cell_type": "code",
   "execution_count": null,
   "id": "578ef866",
   "metadata": {
    "vscode": {
     "languageId": "plaintext"
    }
   },
   "outputs": [],
   "source": [
    "!pip list\n",
    "# # !pip install datasets\n",
    "# !pwd"
   ]
  },
  {
   "cell_type": "code",
   "execution_count": 1,
   "id": "4e4ac3dd",
   "metadata": {
    "vscode": {
     "languageId": "plaintext"
    }
   },
   "outputs": [
    {
     "name": "stdout",
     "output_type": "stream",
     "text": [
      "Workspace paths:\n",
      " OUTPUT_DIR = /workspace/outputs/final_model_fp16\n",
      " MERGED_OUTPUT_DIR = /workspace/outputs/merged_model_fp16\n",
      " GGUF_EXPORT_DIR = /workspace/gguf_exports\n"
     ]
    }
   ],
   "source": [
    "# Standard imports and workspace configuration\n",
    "import os\n",
    "from pathlib import Path\n",
    "import time\n",
    "import json\n",
    "import subprocess\n",
    "\n",
    "BASE_MODEL = \"deepseek-ai/deepseek-coder-1.3b-base\"   # change if you have a local path\n",
    "DATA_PATH = Path(\"/workspace/sqlite_json_training_dataset_extended.json\")\n",
    "WORKSPACE = Path(\"/workspace\")\n",
    "OUTPUT_DIR = WORKSPACE / \"outputs\" / \"final_model_fp16\"\n",
    "MERGED_OUTPUT_DIR = WORKSPACE / \"outputs\" / \"merged_model_fp16\"\n",
    "GGUF_EXPORT_DIR = WORKSPACE / \"gguf_exports\"\n",
    "LLAMA_CPP_PATH = WORKSPACE / \"llama.cpp\"\n",
    "\n",
    "QUANT_METHODS = [\"q4_k_m\", \"q5_k_m\", \"q8_0\"]\n",
    "\n",
    "for p in (OUTPUT_DIR, MERGED_OUTPUT_DIR, GGUF_EXPORT_DIR):\n",
    "    p.mkdir(parents=True, exist_ok=True)\n",
    "\n",
    "print(\"Workspace paths:\")\n",
    "print(\" OUTPUT_DIR =\", OUTPUT_DIR)\n",
    "print(\" MERGED_OUTPUT_DIR =\", MERGED_OUTPUT_DIR)\n",
    "print(\" GGUF_EXPORT_DIR =\", GGUF_EXPORT_DIR)"
   ]
  },
  {
   "cell_type": "code",
   "execution_count": 2,
   "id": "1cfcd0ca",
   "metadata": {
    "vscode": {
     "languageId": "plaintext"
    }
   },
   "outputs": [
    {
     "name": "stdout",
     "output_type": "stream",
     "text": [
      "Loaded 999 samples.\n"
     ]
    },
    {
     "data": {
      "text/plain": [
       "{'text': '### Instruction:\\nFind invalid JSON rows\\n### Response:\\nSELECT rowid, row_data FROM nosql_store WHERE json_valid(row_data)=0;'}"
      ]
     },
     "execution_count": 2,
     "metadata": {},
     "output_type": "execute_result"
    }
   ],
   "source": [
    "# Load dataset (expects json array of objects with 'input' and 'sql' keys)\n",
    "from datasets import Dataset\n",
    "\n",
    "def load_text2sql_dataset(data_path: Path):\n",
    "    if not data_path.exists():\n",
    "        raise FileNotFoundError(f\"Dataset not found: {data_path}\")\n",
    "    with open(data_path, \"r\", encoding=\"utf-8\") as f:\n",
    "        data = json.load(f)\n",
    "    samples = [{\"text\": f\"### Instruction:\\n{item['input']}\\n### Response:\\n{item['sql']}\"} for item in data]\n",
    "    ds = Dataset.from_list(samples)\n",
    "    print(f\"Loaded {len(ds)} samples.\")\n",
    "    return ds\n",
    "\n",
    "dataset = load_text2sql_dataset(DATA_PATH)\n",
    "dataset[0]  # show first sample for sanity"
   ]
  },
  {
   "cell_type": "code",
   "execution_count": 3,
   "id": "2a09faac",
   "metadata": {
    "vscode": {
     "languageId": "plaintext"
    }
   },
   "outputs": [
    {
     "name": "stderr",
     "output_type": "stream",
     "text": [
      "`torch_dtype` is deprecated! Use `dtype` instead!\n"
     ]
    },
    {
     "name": "stdout",
     "output_type": "stream",
     "text": [
      "Loading base model deepseek-ai/deepseek-coder-1.3b-base with dtype=torch.float16 device_map=auto ...\n",
      "trainable params: 1,572,864 || all params: 1,348,044,800 || trainable%: 0.1167\n",
      "done\n"
     ]
    }
   ],
   "source": [
    "# Model & tokenizer setup, LoRA config, and tokenization\n",
    "from transformers import AutoTokenizer, AutoModelForCausalLM\n",
    "import torch\n",
    "from peft import LoraConfig, get_peft_model, PeftModel\n",
    "\n",
    "# Load tokenizer\n",
    "tokenizer = AutoTokenizer.from_pretrained(BASE_MODEL, use_fast=True)\n",
    "if tokenizer.pad_token is None:\n",
    "    tokenizer.pad_token = tokenizer.eos_token\n",
    "\n",
    "# Load base model (FP16 if GPU available)\n",
    "device_map = \"auto\" if torch.cuda.is_available() else None\n",
    "dtype = torch.float16 if torch.cuda.is_available() else torch.float32\n",
    "\n",
    "print(f\"Loading base model {BASE_MODEL} with dtype={dtype} device_map={device_map} ...\")\n",
    "base_model = AutoModelForCausalLM.from_pretrained(\n",
    "    BASE_MODEL,\n",
    "    torch_dtype=dtype,\n",
    "    device_map=device_map,\n",
    "    trust_remote_code=True,\n",
    ")\n",
    "\n",
    "# Setup LoRA config\n",
    "lora_config = LoraConfig(\n",
    "    r=8,\n",
    "    lora_alpha=32,\n",
    "    target_modules=[\"q_proj\", \"v_proj\"],\n",
    "    lora_dropout=0.05,\n",
    "    bias=\"none\",\n",
    "    task_type=\"CAUSAL_LM\",\n",
    ")\n",
    "\n",
    "# Wrap model with PEFT/LoRA BEFORE training\n",
    "model = get_peft_model(base_model, lora_config)\n",
    "model.print_trainable_parameters()\n",
    "print(\"✅ DeepSeek LLM Loaded with LoRA!\")"
   ]
  },
  {
   "cell_type": "code",
   "execution_count": 13,
   "id": "70d1082a",
   "metadata": {
    "vscode": {
     "languageId": "plaintext"
    }
   },
   "outputs": [
    {
     "data": {
      "application/vnd.jupyter.widget-view+json": {
       "model_id": "964cc18590cd4fb4b9b8cc6e2f27b608",
       "version_major": 2,
       "version_minor": 0
      },
      "text/plain": [
       "Map:   0%|          | 0/999 [00:00<?, ? examples/s]"
      ]
     },
     "metadata": {},
     "output_type": "display_data"
    },
    {
     "name": "stdout",
     "output_type": "stream",
     "text": [
      "Dataset({\n",
      "    features: ['text', 'input_ids', 'attention_mask'],\n",
      "    num_rows: 999\n",
      "})\n"
     ]
    }
   ],
   "source": [
    "# Tokenize dataset\n",
    "def tokenize_fn(examples):\n",
    "    return tokenizer(examples[\"text\"], truncation=True, padding=\"max_length\", max_length=512)\n",
    "\n",
    "tokenized = dataset.map(tokenize_fn, batched=True)\n",
    "print(tokenized)"
   ]
  },
  {
   "cell_type": "code",
   "execution_count": null,
   "id": "61a200dd",
   "metadata": {
    "vscode": {
     "languageId": "plaintext"
    }
   },
   "outputs": [],
   "source": [
    "# Training - Trainer setup\n",
    "from transformers import Trainer, TrainingArguments, DataCollatorForLanguageModeling\n",
    "\n",
    "training_args = TrainingArguments(\n",
    "    output_dir=str(OUTPUT_DIR),\n",
    "    per_device_train_batch_size=1,\n",
    "    gradient_accumulation_steps=8,\n",
    "    num_train_epochs=0.5,   # adjust as needed\n",
    "    learning_rate=3e-4,\n",
    "    weight_decay=0.01,\n",
    "    logging_dir=str(WORKSPACE / \"logs\"),\n",
    "    logging_steps=50,\n",
    "    fp16=torch.cuda.is_available(),\n",
    "    save_strategy=\"epoch\",\n",
    "    push_to_hub=False,\n",
    ")\n",
    "\n",
    "data_collator = DataCollatorForLanguageModeling(tokenizer=tokenizer, mlm=False)\n",
    "\n",
    "trainer = Trainer(\n",
    "    model=model,\n",
    "    args=training_args,\n",
    "    train_dataset=tokenized,\n",
    "    tokenizer=tokenizer,\n",
    "    data_collator=data_collator,\n",
    ")\n",
    "\n",
    "print(\"Trainer initialized. Starting training...\")\n",
    "t0 = time.time()\n",
    "trainer_stats = trainer.train()\n",
    "t1 = time.time()\n",
    "print(f\"Training complete ({t1 - t0:.1f}s).\")\n",
    "print(\"Trainer stats:\", trainer_stats)\n"
   ]
  },
  {
   "cell_type": "code",
   "execution_count": null,
   "id": "7f4e4853-5036-4468-b0db-85ceb12a3720",
   "metadata": {},
   "outputs": [],
   "source": [
    "def generate_prediction(review_text):\n",
    "    inputs = tokenizer(review_text, return_tensors=\"pt\").to(\"cuda\")\n",
    "    outputs = base_model.generate(**inputs, max_length=200, pad_token_id=tokenizer.eos_token_id)\n",
    "    print(\"********************\")\n",
    "    print(outputs)\n",
    "    print(\"********************\")\n",
    "    return tokenizer.decode(outputs[0], skip_special_tokens=True)\n",
    "\n",
    "# Example reviews\n",
    "reviews = [\n",
    "    \"Find retail_store in Berlin with rating over 4.0.\",\n",
    "    \"Find restaurant_company in London.\",\n",
    "    \"Show all leaf keys and values for retail_store.\"\n",
    "]\n",
    "\n",
    "# Run predictions\n",
    "for review in reviews:\n",
    "    print(f\"Review: {review}\")\n",
    "    print(\" \")\n",
    "    print(f\"Predicted Sentiment: {generate_prediction(review)}\")\n",
    "    print(\"-\" * 80)"
   ]
  },
  {
   "cell_type": "code",
   "execution_count": null,
   "id": "c1977a9a",
   "metadata": {
    "vscode": {
     "languageId": "plaintext"
    }
   },
   "outputs": [],
   "source": [
    "# Save the LoRA adapter (cheap) and base model with adapter applied (merged)\n",
    "# 1) Save adapter only (safest to reload quickly later)\n",
    "ADAPTER_DIR = OUTPUT_DIR / \"lora_adapter\"\n",
    "ADAPTER_DIR.mkdir(parents=True, exist_ok=True)\n",
    "model.save_pretrained(ADAPTER_DIR)\n",
    "tokenizer.save_pretrained(ADAPTER_DIR)\n",
    "print(f\"LoRA adapter saved to: {ADAPTER_DIR}\")\n",
    "\n",
    "# 2) Merge LoRA into base model and save merged model (FP16 preferred)\n",
    "# If model is a PeftModel, use merge_and_unload or PeftModel.merge_and_unload\n",
    "if hasattr(model, \"merge_and_unload\"):\n",
    "    print(\"Merging LoRA weights into base model (this will produce a standard HF model)...\")\n",
    "    merged = model.merge_and_unload()  # returns merged base model\n",
    "else:\n",
    "    # fallback: if PeftModel wrapper exists, call merger from peft.PeftModel\n",
    "    merged = model  # best-effort; in most PEFT versions merge_and_unload exists\n",
    "\n",
    "# Ensure merged model directory exists and save\n",
    "MERGED_OUTPUT_DIR.mkdir(parents=True, exist_ok=True)\n",
    "merged.save_pretrained(MERGED_OUTPUT_DIR)\n",
    "tokenizer.save_pretrained(MERGED_OUTPUT_DIR)\n",
    "print(f\"Merged FP16 model saved to: {MERGED_OUTPUT_DIR}\")\n"
   ]
  },
  {
   "cell_type": "code",
   "execution_count": null,
   "id": "8909a17e-32db-417c-961d-d6fb91a6dea4",
   "metadata": {},
   "outputs": [],
   "source": [
    "# Ensure nightly tourch version is not replace by older version of torch.\n",
    "!rm -rf llama.cpp\n",
    "!git clone --recursive https://github.com/ggml-org/llama.cpp\n",
    "print('✅ llama.cpp cloned')\n",
    "\n",
    "# CPU-only configuration (disable CUDA flags)\n",
    "!cd llama.cpp && cmake -B build -DCMAKE_BUILD_TYPE=Release\n",
    "print('✅ CMake configuration done (CPU build)')\n",
    "\n",
    "# Build CPU binaries\n",
    "!cmake --build llama.cpp/build --config Release -- -j$(nproc)\n",
    "print('✅ Compilation done')\n",
    "\n",
    "# Check binaries\n",
    "!ls -lh llama.cpp/build/bin\n",
    "\n",
    "# Create symlinks so Unsloth can find them\n",
    "!ln -sf /workspace/llama.cpp/build/bin/llama-quantize /workspace/llama.cpp/llama-quantize\n",
    "!ln -sf /workspace/llama.cpp/build/bin/llama-quantize /usr/local/bin/llama-quantize\n",
    "!ln -sf /workspace/llama.cpp/build/bin/llama-cli /workspace/llama.cpp/llama-cli\n",
    "!ln -sf /workspace/llama.cpp/build/bin/llama-server /workspace/llama.cpp/llama-server\n",
    "!pip install mistral-common\n",
    "print('✅ Symlinks created for Unsloth compatibility')\n",
    "\n",
    "# Sanity check\n",
    "!which llama-quantize\n",
    "!llama.cpp/llama-quantize --help || echo \"⚠️ Quantize binary not found — check build output.\"\n",
    "print('✅ Symlinks created for Unsloth compatibility')\n",
    "\n",
    "print('LLama installed')"
   ]
  },
  {
   "cell_type": "code",
   "execution_count": null,
   "id": "e1196221",
   "metadata": {},
   "outputs": [],
   "source": [
    "# Convert to gguf\n",
    "BASE_MODEL_NAME = BASE_MODEL.split('/')[1]\n",
    "\n",
    "# !python3 /workspace/llama.cpp/convert_hf_to_gguf.py \\\n",
    "#     /workspace/outputs/merged_model_fp16 \\\n",
    "#     --outfile /workspace/gguf_exports/deepseek-coder-1.3b-base_f16.gguf \\\n",
    "#     --outtype f16\n",
    "\n",
    "# ls -lash /workspace/gguf_exports/deepseek-coder-1.3b-base_f16.gguf\n",
    "\n",
    "# Quantize\n",
    "!python3 /workspace/llama.cpp/build/bin/llama-quantize \\\n",
    "    /workspace/gguf_exports/deepseek-coder-1.3b-base_f16.gguf \\\n",
    "    /workspace/gguf_exports/deepseek-coder-1.3b-base_q4_k_m.gguf \\\n",
    "    Q4_K_M"
   ]
  },
  {
   "cell_type": "markdown",
   "id": "d8b064f4",
   "metadata": {},
   "source": [
    "\n",
    "### Done — summary:\n",
    " - Base HF model downloaded and wrapped with LoRA before training.\n",
    " - Training performed with Trainer + PEFT; LoRA adapter saved.\n",
    " - LoRA weights merged into FP16 base model and saved to merged_model_fp16.\n",
    " - Convert script and quantize binaries are attempted; if not found, instructions are printed.\n",
    "\n"
   ]
  }
 ],
 "metadata": {
  "kernelspec": {
   "display_name": "Python 3 (ipykernel)",
   "language": "python",
   "name": "python3"
  },
  "language_info": {
   "codemirror_mode": {
    "name": "ipython",
    "version": 3
   },
   "file_extension": ".py",
   "mimetype": "text/x-python",
   "name": "python",
   "nbconvert_exporter": "python",
   "pygments_lexer": "ipython3",
   "version": "3.12.3"
  }
 },
 "nbformat": 4,
 "nbformat_minor": 5
}
